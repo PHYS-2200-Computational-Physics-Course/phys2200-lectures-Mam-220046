{
 "cells": [
  {
   "cell_type": "code",
   "execution_count": 1,
   "id": "3030bf92-32ba-42e9-bac7-d1b3068480c4",
   "metadata": {},
   "outputs": [
    {
     "data": {
      "text/plain": [
       "myfib"
      ]
     },
     "execution_count": 1,
     "metadata": {},
     "output_type": "execute_result"
    }
   ],
   "source": [
    "\n",
    "\"\"\"\n",
    "    myfib(n)\n",
    "\n",
    "Calculate Fibonacci number F_n using the recurrence relation\n",
    "F_1 = 1, F_2 = 1, and F_n = F_n-1 + F_n-2 for n > 2.\n",
    "\"\"\"\n",
    "function myfib(n)\n",
    "\n",
    "    fp = 1\n",
    "    if n == 1\n",
    "        return fp\n",
    "    end\n",
    "\n",
    "    fc = 1\n",
    "    if n == 2\n",
    "        return fc\n",
    "    end\n",
    "\n",
    "    for i = 3:n\n",
    "        fn = fc + fp\n",
    "        fp = fc\n",
    "        fc = fn\n",
    "    end\n",
    "\n",
    "\n",
    "    return fc\n",
    "end"
   ]
  },
  {
   "cell_type": "code",
   "execution_count": 2,
   "id": "9d5fe45f-6adc-43fd-b5b9-860f9db73f1c",
   "metadata": {},
   "outputs": [
    {
     "name": "stdout",
     "output_type": "stream",
     "text": [
      "search: \u001b[0m\u001b[1mm\u001b[22m\u001b[0m\u001b[1my\u001b[22m\u001b[0m\u001b[1mf\u001b[22m\u001b[0m\u001b[1mi\u001b[22m\u001b[0m\u001b[1mb\u001b[22m\n",
      "\n"
     ]
    },
    {
     "data": {
      "text/latex": [
       "\\begin{verbatim}\n",
       "myfib(n)\n",
       "\\end{verbatim}\n",
       "Calculate Fibonacci number F\\emph{n using the recurrence relation F}1 = 1, F\\emph{2 = 1, and F}n = F\\emph{n-1 + F}n-2 for n > 2.\n",
       "\n"
      ],
      "text/markdown": [
       "```\n",
       "myfib(n)\n",
       "```\n",
       "\n",
       "Calculate Fibonacci number F*n using the recurrence relation F*1 = 1, F*2 = 1, and F*n = F*n-1 + F*n-2 for n > 2.\n"
      ],
      "text/plain": [
       "\u001b[36m  myfib(n)\u001b[39m\n",
       "\n",
       "  Calculate Fibonacci number F\u001b[4mn using the recurrence relation F\u001b[24m1 = 1, F\u001b[4m2 = 1,\u001b[24m\n",
       "  \u001b[4mand F\u001b[24mn = F\u001b[4mn-1 + F\u001b[24mn-2 for n > 2."
      ]
     },
     "execution_count": 2,
     "metadata": {},
     "output_type": "execute_result"
    }
   ],
   "source": [
    "\n",
    "?myfib"
   ]
  },
  {
   "cell_type": "code",
   "execution_count": 3,
   "id": "4bd1e418-0e92-48a0-8ada-bd5228c158f5",
   "metadata": {},
   "outputs": [
    {
     "data": {
      "text/plain": [
       "10-element Vector{Int64}:\n",
       "  1\n",
       "  1\n",
       "  2\n",
       "  3\n",
       "  5\n",
       "  8\n",
       " 13\n",
       " 21\n",
       " 34\n",
       " 55"
      ]
     },
     "execution_count": 3,
     "metadata": {},
     "output_type": "execute_result"
    }
   ],
   "source": [
    "\n",
    "myfib.(1:10)"
   ]
  },
  {
   "cell_type": "code",
   "execution_count": 4,
   "id": "c42e0f1e-961f-4db7-ab30-38fec30f4093",
   "metadata": {},
   "outputs": [
    {
     "data": {
      "text/plain": [
       "myfib1 (generic function with 1 method)"
      ]
     },
     "execution_count": 4,
     "metadata": {},
     "output_type": "execute_result"
    }
   ],
   "source": [
    "\n",
    "function myfib1(n)\n",
    "    #base case\n",
    "    if n == 1 \n",
    "        return 1 \n",
    "    elseif n == 2\n",
    "        return 1\n",
    "    end \n",
    "    \n",
    "    return myfib1(n-1) + myfib1(n-2)\n",
    "end"
   ]
  },
  {
   "cell_type": "code",
   "execution_count": 5,
   "id": "4a3c74e4-4b64-422c-a164-8d5132aef51f",
   "metadata": {},
   "outputs": [
    {
     "data": {
      "text/plain": [
       "11-element Vector{Int64}:\n",
       "  1\n",
       "  1\n",
       "  2\n",
       "  3\n",
       "  5\n",
       "  8\n",
       " 13\n",
       " 21\n",
       " 34\n",
       " 55\n",
       " 89"
      ]
     },
     "execution_count": 5,
     "metadata": {},
     "output_type": "execute_result"
    }
   ],
   "source": [
    "\n",
    "myfib1.(1:11)"
   ]
  },
  {
   "cell_type": "code",
   "execution_count": 6,
   "id": "819b6f95-9a63-41c7-b227-403d3f3f6ea3",
   "metadata": {},
   "outputs": [
    {
     "name": "stdout",
     "output_type": "stream",
     "text": [
      "  0.000000 seconds\n"
     ]
    }
   ],
   "source": [
    "\n",
    "@time myfib(50); #with the ; it just shows how fast the calculation took"
   ]
  },
  {
   "cell_type": "code",
   "execution_count": 7,
   "id": "42802490-b0cf-431b-a9fe-67da081297c7",
   "metadata": {},
   "outputs": [
    {
     "name": "stdout",
     "output_type": "stream",
     "text": [
      "  0.000000 seconds\n"
     ]
    },
    {
     "data": {
      "text/plain": [
       "12586269025"
      ]
     },
     "execution_count": 7,
     "metadata": {},
     "output_type": "execute_result"
    }
   ],
   "source": [
    "@time myfib(50)"
   ]
  },
  {
   "cell_type": "code",
   "execution_count": 8,
   "id": "b545da56-77ad-4f16-9938-1ad62dfef281",
   "metadata": {},
   "outputs": [
    {
     "name": "stdout",
     "output_type": "stream",
     "text": [
      " 45.765253 seconds\n"
     ]
    },
    {
     "data": {
      "text/plain": [
       "12586269025"
      ]
     },
     "execution_count": 8,
     "metadata": {},
     "output_type": "execute_result"
    }
   ],
   "source": [
    "@time myfib1(50)"
   ]
  },
  {
   "cell_type": "code",
   "execution_count": 9,
   "id": "80ecab7e-88a8-45aa-9e15-b8dae599ef34",
   "metadata": {},
   "outputs": [
    {
     "data": {
      "text/plain": [
       "myfib2"
      ]
     },
     "execution_count": 9,
     "metadata": {},
     "output_type": "execute_result"
    }
   ],
   "source": [
    "\"\"\"\n",
    "    myfib2(n)\n",
    "\n",
    "Calculate Fibonacci number F_n using the recurrence relation\n",
    "F_1 = 1, F_2 = 1, and F_n = F_n-1 + F_n-2 for n > 2.\n",
    "\"\"\"\n",
    "function myfib2(n)\n",
    "\n",
    "    fp = 1\n",
    "    if n == 1\n",
    "        return fp\n",
    "    end\n",
    "\n",
    "    fc = 1\n",
    "    if n == 2\n",
    "        return fc\n",
    "    end\n",
    "\n",
    "    for i = 3:n\n",
    "        # fn = fc + fp\n",
    "        # fp = fc\n",
    "        # fc = fn\n",
    "        fc, fp = fc + fp, fc\n",
    "    end\n",
    "\n",
    "\n",
    "    return fc\n",
    "end"
   ]
  },
  {
   "cell_type": "code",
   "execution_count": 10,
   "id": "485b03a4-d61f-44b8-af26-909ef704fadc",
   "metadata": {},
   "outputs": [
    {
     "data": {
      "text/plain": [
       "11-element Vector{Int64}:\n",
       "  1\n",
       "  1\n",
       "  2\n",
       "  3\n",
       "  5\n",
       "  8\n",
       " 13\n",
       " 21\n",
       " 34\n",
       " 55\n",
       " 89"
      ]
     },
     "execution_count": 10,
     "metadata": {},
     "output_type": "execute_result"
    }
   ],
   "source": [
    "myfib2.(1:11)"
   ]
  },
  {
   "cell_type": "code",
   "execution_count": null,
   "id": "e4f5957a-cc96-4a2d-aaac-e305663f8593",
   "metadata": {},
   "outputs": [],
   "source": []
  }
 ],
 "metadata": {
  "kernelspec": {
   "display_name": "Julia 1.11.6",
   "language": "julia",
   "name": "julia-1.11"
  },
  "language_info": {
   "file_extension": ".jl",
   "mimetype": "application/julia",
   "name": "julia",
   "version": "1.11.6"
  }
 },
 "nbformat": 4,
 "nbformat_minor": 5
}

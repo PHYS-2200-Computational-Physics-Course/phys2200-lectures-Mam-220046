{
 "cells": [
  {
   "cell_type": "code",
   "execution_count": 1,
   "id": "1f7fe227-42d3-426d-ae90-b21600bbdd3a",
   "metadata": {},
   "outputs": [
    {
     "data": {
      "text/plain": [
       "myeulersv"
      ]
     },
     "execution_count": 1,
     "metadata": {},
     "output_type": "execute_result"
    }
   ],
   "source": [
    "\n",
    "\n",
    "\"\"\"\n",
    "    t, y = myeulersv(fun, a, b, n, y1)\n",
    "\n",
    "Solve IVP y' = fun(t, y), a <= t <= b, y(a) = y1 using Euler's method.\n",
    "Use the integration step h = (b - a)/(n - 1). Return a vector of values\n",
    "of the independent variable t_i, and a matrix of correspondinig values\n",
    "of the solution, y(t_i)\n",
    "\"\"\"\n",
    "function myeulersv(fun, a, b, n, y1)\n",
    "    t = range(a, b, n)\n",
    "    neqs = length(y1)\n",
    "    dydt = zeros(neqs) #allocate vector of derivatives\n",
    "    y = zeros(neqs, n) #allocate the matrix of solution\n",
    "    h = t[2] - t[1]\n",
    "    y[:, 1] = y1\n",
    "    for i = 1:n-1\n",
    "        k1 = h*fun(t[i], y[:, i])\n",
    "        y[:, i+1] = y[:, i] + k1\n",
    "    end\n",
    "    return t, y\n",
    "end"
   ]
  },
  {
   "cell_type": "code",
   "execution_count": null,
   "id": "fab14c2d-1b8f-41f6-89e3-353dac83b1d4",
   "metadata": {},
   "outputs": [],
   "source": [
    "\n",
    "\"\"\"\n",
    "   dy/dt = funv(t,y) \n",
    "\n",
    "Right hand side of the oscillator with friction\n",
    "\"\"\"\n",
    "function frict(t, y) #oscillates with friction\n",
    "    dydt = zeros(2) \n",
    "    dydt[1] = y[2]\n",
    "    dydt[2] = -y[1] - y[2]\n",
    "    return dydt\n",
    "end "
   ]
  },
  {
   "cell_type": "code",
   "execution_count": null,
   "id": "9f8ab551-81b1-43e8-81be-2275d3eaca93",
   "metadata": {},
   "outputs": [],
   "source": [
    "\n",
    "a = 0.0\n",
    "b = 10.0 \n",
    "n = 100\n",
    "y1 = [1.0, 0.0]"
   ]
  },
  {
   "cell_type": "code",
   "execution_count": null,
   "id": "98f21685-96e8-41b0-b3fd-00ea385ba162",
   "metadata": {},
   "outputs": [],
   "source": [
    "\n",
    "t, y =  myeulersv(frict, a, b, n, y1)"
   ]
  },
  {
   "cell_type": "code",
   "execution_count": 2,
   "id": "33d81b40-8b63-422c-be02-83ebbd6eba21",
   "metadata": {},
   "outputs": [],
   "source": [
    "\n",
    "using PyPlot"
   ]
  },
  {
   "cell_type": "code",
   "execution_count": null,
   "id": "4c921625-37bf-4243-a06c-87a261ccdf05",
   "metadata": {},
   "outputs": [],
   "source": [
    "\n",
    "plot(t, y[1, :], label = \"coordinate\")\n",
    "plot(t, y[2, :], label =\"velocity\")\n",
    "grid(true) \n",
    "title(\"Oscillator with Friction\")\n",
    "legend()\n",
    "xlabel(\"Time\")"
   ]
  },
  {
   "cell_type": "code",
   "execution_count": null,
   "id": "88832271-e8a1-4f53-a483-cf0cb0ffd1ef",
   "metadata": {},
   "outputs": [],
   "source": [
    "\n",
    "plot(y[1, :] , y[2, :])\n",
    "grid(true) \n",
    "scatter(y1...) #shows where we start\n",
    "title(\"Oscillator with Friction\")\n",
    "xlabel(\"Coordinate\")\n",
    "ylabel(\"Velocity\")"
   ]
  },
  {
   "cell_type": "code",
   "execution_count": null,
   "id": "4966bfc6-d0a0-4c2c-83ba-0165e645c2d2",
   "metadata": {},
   "outputs": [],
   "source": []
  },
  {
   "cell_type": "markdown",
   "id": "dfe64a23-df4b-4af2-86c9-5fe155aeb0ad",
   "metadata": {},
   "source": [
    " ### Spherical Bessel Function"
   ]
  },
  {
   "cell_type": "code",
   "execution_count": 3,
   "id": "7905161a-ba5d-44e1-9c0a-26c5b3cd64cd",
   "metadata": {},
   "outputs": [
    {
     "data": {
      "text/plain": [
       "bes (generic function with 1 method)"
      ]
     },
     "execution_count": 3,
     "metadata": {},
     "output_type": "execute_result"
    }
   ],
   "source": [
    "\n",
    "function bes(x, u) \n",
    "    dudx = zeros(2)\n",
    "    dudx[1] = u[2]\n",
    "    dudx[2] = abs(x) > eps() ? -2/x * u[2] - (1 - 2/x^2) * u[1] : 0.0\n",
    "    return dudx\n",
    "end "
   ]
  },
  {
   "cell_type": "code",
   "execution_count": 6,
   "id": "11a713b1-a16b-40da-8247-4a7238e0e9f4",
   "metadata": {},
   "outputs": [
    {
     "data": {
      "text/plain": [
       "2-element Vector{Float64}:\n",
       " 0.0\n",
       " 0.3333333333333333"
      ]
     },
     "execution_count": 6,
     "metadata": {},
     "output_type": "execute_result"
    }
   ],
   "source": [
    "\n",
    "abes = 0.0\n",
    "bbes = 20.0\n",
    "nbes = 4000\n",
    "u0bes = [0.0, 1/3]"
   ]
  },
  {
   "cell_type": "code",
   "execution_count": 7,
   "id": "cc7ef959-0d4b-4ecc-bc00-f968e1c64856",
   "metadata": {},
   "outputs": [
    {
     "data": {
      "text/plain": [
       "(0.0:0.005001250312578144:20.0, [0.0 0.0016670834375260481 … -0.01873680946220431 -0.01848870732252748; 0.3333333333333333 0.3333333333333333 … 0.049608022828381886 0.04967644511115136])"
      ]
     },
     "execution_count": 7,
     "metadata": {},
     "output_type": "execute_result"
    }
   ],
   "source": [
    "\n",
    "x, u = myeulersv(bes, abes, bbes, nbes, u0bes)"
   ]
  },
  {
   "cell_type": "code",
   "execution_count": 8,
   "id": "491f790f-50f4-4717-9d1c-5d9ed462f6b8",
   "metadata": {},
   "outputs": [
    {
     "data": {
      "text/plain": [
       "j1exact (generic function with 1 method)"
      ]
     },
     "execution_count": 8,
     "metadata": {},
     "output_type": "execute_result"
    }
   ],
   "source": [
    "\n",
    "j1exact(x) = abs(x) > eps() ? sin(x)/x^2 - cos(x)/x : 0"
   ]
  },
  {
   "cell_type": "code",
   "execution_count": 9,
   "id": "df44ef76-e239-4cdb-992e-2caa73138702",
   "metadata": {},
   "outputs": [
    {
     "data": {
      "image/png": "[encoded data removed]",
      "text/plain": [
       "Figure(PyObject <Figure size 640x480 with 1 Axes>)"
      ]
     },
     "metadata": {},
     "output_type": "display_data"
    },
    {
     "data": {
      "text/plain": [
       "PyObject Text(0.5, 1.0, 'Spedical Bessel')"
      ]
     },
     "execution_count": 9,
     "metadata": {},
     "output_type": "execute_result"
    }
   ],
   "source": [
    "\n",
    "plot(x, u[1, :], label=\"Bessel Numberical\")\n",
    "plot(x, j1exact.(x), label=\"Bessel Exact\")\n",
    "grid(true)\n",
    "xlabel(\"x\")\n",
    "ylabel(L\"j_1(x)\")\n",
    "legend()\n",
    "title(\"Spedical Bessel\")"
   ]
  },
  {
   "cell_type": "code",
   "execution_count": null,
   "id": "e66ca2f1-23b4-41bf-873c-4e53c59e87e4",
   "metadata": {},
   "outputs": [],
   "source": []
  }
 ],
 "metadata": {
  "kernelspec": {
   "display_name": "Julia 1.11.6",
   "language": "julia",
   "name": "julia-1.11"
  },
  "language_info": {
   "file_extension": ".jl",
   "mimetype": "application/julia",
   "name": "julia",
   "version": "1.11.6"
  }
 },
 "nbformat": 4,
 "nbformat_minor": 5
}

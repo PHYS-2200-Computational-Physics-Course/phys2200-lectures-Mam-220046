{
 "cells": [
  {
   "cell_type": "code",
   "execution_count": 11,
   "id": "5ce958a0-22ea-4caa-9676-02c6076a1c45",
   "metadata": {},
   "outputs": [
    {
     "data": {
      "text/plain": [
       "mybasel"
      ]
     },
     "execution_count": 11,
     "metadata": {},
     "output_type": "execute_result"
    }
   ],
   "source": [
    "# for midterm 1, question 2\n",
    "\"\"\"\n",
    "    s = mybasel(N)\n",
    "\n",
    "Calculate finite Basel sum\n",
    "\"\"\"\n",
    "function mybasel(N)\n",
    "    s = 0.0 \n",
    "    for n = 1:N\n",
    "        s += 1/n^2\n",
    "    end\n",
    "    return s\n",
    "end"
   ]
  },
  {
   "cell_type": "code",
   "execution_count": 12,
   "id": "68bc61d8-66de-4964-8baf-8673fb02b393",
   "metadata": {},
   "outputs": [
    {
     "data": {
      "text/plain": [
       "0.0005"
      ]
     },
     "execution_count": 12,
     "metadata": {},
     "output_type": "execute_result"
    }
   ],
   "source": [
    "round(abs(mybasel(2000) - pi^2/6), sigdigits=1)"
   ]
  },
  {
   "cell_type": "code",
   "execution_count": 13,
   "id": "c843594b-fe3a-4763-8b9d-636312f0d0d1",
   "metadata": {},
   "outputs": [
    {
     "data": {
      "text/plain": [
       "myrichardson (generic function with 1 method)"
      ]
     },
     "execution_count": 13,
     "metadata": {},
     "output_type": "execute_result"
    }
   ],
   "source": [
    "\n",
    "function myrichardson(N) \n",
    "    s1 = mybasel(N)\n",
    "    s2 = mybasel(2*N)\n",
    "    return 2*s2 - s1\n",
    "end"
   ]
  },
  {
   "cell_type": "code",
   "execution_count": 14,
   "id": "08d0cb9d-869c-4cdb-973c-d939fa89053a",
   "metadata": {},
   "outputs": [
    {
     "data": {
      "text/plain": [
       "2.0e-7"
      ]
     },
     "execution_count": 14,
     "metadata": {},
     "output_type": "execute_result"
    }
   ],
   "source": [
    "\n",
    "round(abs(myrichardson(1000) - pi^2/6), sigdigits=1)"
   ]
  },
  {
   "cell_type": "code",
   "execution_count": 15,
   "id": "b81375ff-a3a2-4131-aa1d-bd112a896a28",
   "metadata": {},
   "outputs": [
    {
     "data": {
      "text/plain": [
       "2.0e-7"
      ]
     },
     "execution_count": 15,
     "metadata": {},
     "output_type": "execute_result"
    }
   ],
   "source": [
    "\n",
    "round(abs(mybasel(5000000) - pi^2/6), sigdigits=1)"
   ]
  },
  {
   "cell_type": "code",
   "execution_count": null,
   "id": "76f1585b-8b12-43fc-ab12-aa73bfcb643b",
   "metadata": {},
   "outputs": [],
   "source": []
  }
 ],
 "metadata": {
  "kernelspec": {
   "display_name": "Julia 1.11.6",
   "language": "julia",
   "name": "julia-1.11"
  },
  "language_info": {
   "file_extension": ".jl",
   "mimetype": "application/julia",
   "name": "julia",
   "version": "1.11.6"
  }
 },
 "nbformat": 4,
 "nbformat_minor": 5
}
